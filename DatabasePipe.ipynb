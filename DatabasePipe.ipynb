{
 "cells": [
  {
   "cell_type": "code",
   "execution_count": 1,
   "metadata": {},
   "outputs": [
    {
     "name": "stderr",
     "output_type": "stream",
     "text": [
      "Unexpected parameter: since\n"
     ]
    },
    {
     "name": "stdout",
     "output_type": "stream",
     "text": [
      "importing Jupyter notebook from variables.ipynb\n",
      "importing Jupyter notebook from getTweets.ipynb\n"
     ]
    },
    {
     "name": "stderr",
     "output_type": "stream",
     "text": [
      "Unexpected parameter: since\n",
      "Unexpected parameter: since\n",
      "Unexpected parameter: since\n",
      "<string>:63: SettingWithCopyWarning: \n",
      "A value is trying to be set on a copy of a slice from a DataFrame.\n",
      "Try using .loc[row_indexer,col_indexer] = value instead\n",
      "\n",
      "See the caveats in the documentation: https://pandas.pydata.org/pandas-docs/stable/user_guide/indexing.html#returning-a-view-versus-a-copy\n",
      "C:\\Users\\USER\\anaconda3\\lib\\site-packages\\pandas\\core\\frame.py:3065: SettingWithCopyWarning: \n",
      "A value is trying to be set on a copy of a slice from a DataFrame.\n",
      "Try using .loc[row_indexer,col_indexer] = value instead\n",
      "\n",
      "See the caveats in the documentation: https://pandas.pydata.org/pandas-docs/stable/user_guide/indexing.html#returning-a-view-versus-a-copy\n",
      "  self[k1] = value[k2]\n",
      "Unexpected parameter: since\n",
      "Unexpected parameter: since\n",
      "Unexpected parameter: since\n",
      "Unexpected parameter: since\n",
      "<ipython-input-1-6a2e325d35cb>:63: SettingWithCopyWarning: \n",
      "A value is trying to be set on a copy of a slice from a DataFrame.\n",
      "Try using .loc[row_indexer,col_indexer] = value instead\n",
      "\n",
      "See the caveats in the documentation: https://pandas.pydata.org/pandas-docs/stable/user_guide/indexing.html#returning-a-view-versus-a-copy\n",
      "  tweeter_df[\"date\"] = tweeter_df[\"date\"].astype(\"string\")\n"
     ]
    }
   ],
   "source": [
    "import tweepy as tw\n",
    "import pandas as pd\n",
    "import pymongo\n",
    "from pymongo import MongoClient\n",
    "import json\n",
    "import import_ipynb\n",
    "from variables import *\n",
    "from getTweets import *\n",
    "%run variables.ipynb\n",
    "%run getTweets.ipynb"
   ]
  },
  {
   "cell_type": "code",
   "execution_count": 2,
   "metadata": {},
   "outputs": [],
   "source": [
    "def collect_json(data_frame_tweets):\n",
    "    json_data = []\n",
    "    for data in data_frame_tweets:\n",
    "        for i, n in data.items():\n",
    "            json_data.append(n)\n",
    "            \n",
    "    return json_data\n",
    "            \n",
    "\n",
    "def function_calls():\n",
    "    global api_key\n",
    "    global api_key_secret\n",
    "    global search_query\n",
    "    global from_date\n",
    "    global item_data_count\n",
    "    json_value = collect_json(data_frame_tweets)\n",
    "    return json_value\n",
    "\n",
    "\n",
    "\n",
    "def get_api():\n",
    "    global api\n",
    "    global cluster_table\n",
    "    global collection_table\n",
    "    cluster = MongoClient(api)\n",
    "    db = cluster[cluster_table]\n",
    "    collection = db[collection_table]\n",
    "    return collection\n",
    "\n",
    "def store_data_base(collection, json_value):\n",
    "    for data in json_value:\n",
    "        collt = collection.insert_one(data)\n",
    "    return collt\n",
    "\n",
    "def read_data_base(collection):\n",
    "    data_frame = []\n",
    "    data_val = collection.find()\n",
    "    for i in data_val:\n",
    "        data_frame.append(i)\n",
    "    df = pd.DataFrame(data_frame)\n",
    "    return df\n",
    "\n",
    "    \n",
    "def data_base_object():\n",
    "    data_x = get_api()\n",
    "    json_data = function_calls()\n",
    "    stored_mongodb = store_data_base(data_x, json_data)\n",
    "    data_frame = read_data_base(data_x)\n",
    "    return data_frame\n",
    "\n",
    "main_value = data_base_object()\n",
    "#print(main_value)"
   ]
  },
  {
   "cell_type": "code",
   "execution_count": null,
   "metadata": {},
   "outputs": [],
   "source": []
  }
 ],
 "metadata": {
  "kernelspec": {
   "display_name": "Python 3",
   "language": "python",
   "name": "python3"
  },
  "language_info": {
   "codemirror_mode": {
    "name": "ipython",
    "version": 3
   },
   "file_extension": ".py",
   "mimetype": "text/x-python",
   "name": "python",
   "nbconvert_exporter": "python",
   "pygments_lexer": "ipython3",
   "version": "3.8.5"
  }
 },
 "nbformat": 4,
 "nbformat_minor": 4
}
