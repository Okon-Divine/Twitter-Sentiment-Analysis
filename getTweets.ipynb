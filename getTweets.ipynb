{
 "cells": [
  {
   "cell_type": "code",
   "execution_count": 1,
   "metadata": {},
   "outputs": [
    {
     "name": "stdout",
     "output_type": "stream",
     "text": [
      "importing Jupyter notebook from variables.ipynb\n"
     ]
    },
    {
     "name": "stderr",
     "output_type": "stream",
     "text": [
      "Unexpected parameter: since\n",
      "Unexpected parameter: since\n",
      "Unexpected parameter: since\n",
      "Unexpected parameter: since\n",
      "<ipython-input-1-6a2e325d35cb>:63: SettingWithCopyWarning: \n",
      "A value is trying to be set on a copy of a slice from a DataFrame.\n",
      "Try using .loc[row_indexer,col_indexer] = value instead\n",
      "\n",
      "See the caveats in the documentation: https://pandas.pydata.org/pandas-docs/stable/user_guide/indexing.html#returning-a-view-versus-a-copy\n",
      "  tweeter_df[\"date\"] = tweeter_df[\"date\"].astype(\"string\")\n",
      "C:\\Users\\USER\\anaconda3\\lib\\site-packages\\pandas\\core\\frame.py:3065: SettingWithCopyWarning: \n",
      "A value is trying to be set on a copy of a slice from a DataFrame.\n",
      "Try using .loc[row_indexer,col_indexer] = value instead\n",
      "\n",
      "See the caveats in the documentation: https://pandas.pydata.org/pandas-docs/stable/user_guide/indexing.html#returning-a-view-versus-a-copy\n",
      "  self[k1] = value[k2]\n"
     ]
    }
   ],
   "source": [
    "import import_ipynb\n",
    "import variables\n",
    "import tweepy as tw\n",
    "import pandas as pd\n",
    "import pymongo\n",
    "from pymongo import MongoClient\n",
    "import json\n",
    "from variables import *\n",
    "%run variables.ipynb\n",
    "\n",
    "def authentication_function():\n",
    "    global api_key\n",
    "    global api_key_secret\n",
    "    global from_date\n",
    "    global item_data_count\n",
    "    global search_query\n",
    "    auth = tw.OAuthHandler(api_key, api_key_secret)\n",
    "    api = tw.API(auth, wait_on_rate_limit=True)\n",
    "    tweets = tw.Cursor(api.search_tweets,\n",
    "                  q=search_query,\n",
    "                  lang=\"en\",\n",
    "                  since=from_date).items(item_data_count)\n",
    "    tweets_copy = []\n",
    "    for tweet in tweets:\n",
    "        tweets_copy.append(tweet)\n",
    "        \n",
    "    return tweets_copy\n",
    "\n",
    "\n",
    "def get_tweets(tweets_copy):\n",
    "    tweets_df = pd.DataFrame()\n",
    "    # populate the dataframe\n",
    "    for tweet in tweets_copy:\n",
    "        hashtags = []\n",
    "        try:\n",
    "            for hashtag in tweet.entities[\"hashtags\"]:\n",
    "                hashtags.append(hashtag[\"text\"])\n",
    "            text = api.get_status(id=tweet.id, tweet_mode='extended').full_text\n",
    "        except:\n",
    "            pass\n",
    "        tweets_df = tweets_df.append(pd.DataFrame({'user_name': tweet.user.name, \n",
    "                                                   'user_location': tweet.user.location,\\\n",
    "                                                   'user_description': tweet.user.description,\n",
    "                                                   'user_verified': tweet.user.verified,\n",
    "                                                   'date': tweet.created_at,\n",
    "                                                   'text': tweet.text, \n",
    "                                                   'hashtags': [hashtags if hashtags else None],\n",
    "                                                   'source': tweet.source}))\n",
    "        tweets_df = tweets_df.reset_index(drop=True)\n",
    "\n",
    "    # show the dataframe\n",
    "    return tweets_df\n",
    "\n",
    "\n",
    "def select_var(df_tweets):\n",
    "    \n",
    "    tweeter_df = df_tweets[[\"date\", \"user_location\", \"text\"]]\n",
    "    return tweeter_df\n",
    "\n",
    "\n",
    "def dataframe_data(tweeter_df):\n",
    "    \n",
    "    tweeter_df[\"date\"] = tweeter_df[\"date\"].astype(\"string\")\n",
    "    tweeter_df[['date','Date']] = tweeter_df['date'].str.split(' ',expand=True)\n",
    "    df_val = tweeter_df.drop([\"Date\"], axis=1)\n",
    "    json = [df_val.to_dict(orient=\"index\")]\n",
    "    return json\n",
    "\n",
    "\n",
    "auth = authentication_function()\n",
    "get_tweets = get_tweets(auth)\n",
    "select_var = select_var(get_tweets)\n",
    "data_frame_tweets = dataframe_data(select_var)"
   ]
  },
  {
   "cell_type": "code",
   "execution_count": null,
   "metadata": {},
   "outputs": [],
   "source": []
  }
 ],
 "metadata": {
  "kernelspec": {
   "display_name": "Python 3",
   "language": "python",
   "name": "python3"
  },
  "language_info": {
   "codemirror_mode": {
    "name": "ipython",
    "version": 3
   },
   "file_extension": ".py",
   "mimetype": "text/x-python",
   "name": "python",
   "nbconvert_exporter": "python",
   "pygments_lexer": "ipython3",
   "version": "3.8.5"
  }
 },
 "nbformat": 4,
 "nbformat_minor": 4
}
