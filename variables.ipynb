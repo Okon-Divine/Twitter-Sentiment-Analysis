{
 "cells": [
  {
   "cell_type": "code",
   "execution_count": 1,
   "metadata": {},
   "outputs": [],
   "source": [
    "import tweepy as tw\n",
    "import pandas as pd\n",
    "import pymongo\n",
    "from pymongo import MongoClient\n",
    "import json\n",
    "import import_ipynb\n",
    "\n",
    "api_key = \"<api key>\"\n",
    "api_key_secret = \"<api secret key>\"\n",
    "search_query = \"Donald Trump\"\n",
    "from_date = \"2020-09-16\"\n",
    "item_data_count = 50\n",
    "\n",
    "####For DataBase ###############\n",
    "\n",
    "api = \"<Mongo DB data base Api key>\"\n",
    "cluster_table  = \"<cluster/collection name>\"\n",
    "collection_table = \"<table name>\"\n",
    "tweets_df = pd.DataFrame()"
   ]
  },
  {
   "cell_type": "code",
   "execution_count": null,
   "metadata": {},
   "outputs": [],
   "source": []
  }
 ],
 "metadata": {
  "kernelspec": {
   "display_name": "Python 3",
   "language": "python",
   "name": "python3"
  },
  "language_info": {
   "codemirror_mode": {
    "name": "ipython",
    "version": 3
   },
   "file_extension": ".py",
   "mimetype": "text/x-python",
   "name": "python",
   "nbconvert_exporter": "python",
   "pygments_lexer": "ipython3",
   "version": "3.8.5"
  }
 },
 "nbformat": 4,
 "nbformat_minor": 4
}
